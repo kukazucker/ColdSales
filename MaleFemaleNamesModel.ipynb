{
 "cells": [
  {
   "cell_type": "code",
   "execution_count": 1,
   "metadata": {},
   "outputs": [
    {
     "name": "stderr",
     "output_type": "stream",
     "text": [
      "2022-11-05 18:43:40.459952: I tensorflow/core/platform/cpu_feature_guard.cc:193] This TensorFlow binary is optimized with oneAPI Deep Neural Network Library (oneDNN) to use the following CPU instructions in performance-critical operations:  AVX2 FMA\n",
      "To enable them in other operations, rebuild TensorFlow with the appropriate compiler flags.\n"
     ]
    }
   ],
   "source": [
    "# ML Tools\n",
    "import numpy as np \n",
    "import pandas as pd \n",
    "# Visualization\n",
    "import matplotlib.pyplot as plt\n",
    "import seaborn as sns\n",
    "# To prepare data\n",
    "import re\n",
    "from nltk.corpus import stopwords\n",
    "from sklearn.utils import shuffle\n",
    "# import nltk\n",
    "# nltk.download('stopwords')\n",
    "# Metrics\n",
    "from sklearn.metrics import confusion_matrix\n",
    "from sklearn.metrics import accuracy_score\n",
    "# Train Tools\n",
    "import tensorflow as tf\n",
    "from tensorflow.keras import layers\n",
    "from tensorflow.keras import losses\n",
    "from tensorflow.keras.preprocessing.sequence import pad_sequences\n",
    "from tensorflow.keras.preprocessing.text import Tokenizer\n",
    "from sklearn.utils import shuffle\n",
    "\n",
    "# other settings\n",
    "import os\n",
    "import pickle\n",
    "import warnings\n",
    "warnings.filterwarnings('ignore')"
   ]
  },
  {
   "cell_type": "markdown",
   "metadata": {},
   "source": [
    "## 1. Input Data"
   ]
  },
  {
   "cell_type": "code",
   "execution_count": 3,
   "metadata": {},
   "outputs": [],
   "source": [
    "mdata = pd.read_csv('data/f_m_names.csv')\n",
    "df = shuffle(mdata)\n",
    "df = df.dropna()\n",
    "train = df[:5000]\n",
    "test = df[5000:6264]\n",
    "\n",
    "y_test = test['label']"
   ]
  },
  {
   "cell_type": "code",
   "execution_count": 4,
   "metadata": {},
   "outputs": [
    {
     "data": {
      "text/html": [
       "<div>\n",
       "<style scoped>\n",
       "    .dataframe tbody tr th:only-of-type {\n",
       "        vertical-align: middle;\n",
       "    }\n",
       "\n",
       "    .dataframe tbody tr th {\n",
       "        vertical-align: top;\n",
       "    }\n",
       "\n",
       "    .dataframe thead th {\n",
       "        text-align: right;\n",
       "    }\n",
       "</style>\n",
       "<table border=\"1\" class=\"dataframe\">\n",
       "  <thead>\n",
       "    <tr style=\"text-align: right;\">\n",
       "      <th></th>\n",
       "      <th>text</th>\n",
       "      <th>label</th>\n",
       "    </tr>\n",
       "  </thead>\n",
       "  <tbody>\n",
       "    <tr>\n",
       "      <th>2457</th>\n",
       "      <td>Исаев Сергей Константинович</td>\n",
       "      <td>1</td>\n",
       "    </tr>\n",
       "    <tr>\n",
       "      <th>4346</th>\n",
       "      <td>Голикова Евгения Фёдоровна</td>\n",
       "      <td>0</td>\n",
       "    </tr>\n",
       "    <tr>\n",
       "      <th>3600</th>\n",
       "      <td>Титова Злата Егоровна</td>\n",
       "      <td>0</td>\n",
       "    </tr>\n",
       "    <tr>\n",
       "      <th>495</th>\n",
       "      <td>Котов Александр Михайлович</td>\n",
       "      <td>1</td>\n",
       "    </tr>\n",
       "    <tr>\n",
       "      <th>731</th>\n",
       "      <td>Попов Ярослав Алексеевич</td>\n",
       "      <td>1</td>\n",
       "    </tr>\n",
       "  </tbody>\n",
       "</table>\n",
       "</div>"
      ],
      "text/plain": [
       "                             text  label\n",
       "2457  Исаев Сергей Константинович      1\n",
       "4346   Голикова Евгения Фёдоровна      0\n",
       "3600        Титова Злата Егоровна      0\n",
       "495    Котов Александр Михайлович      1\n",
       "731      Попов Ярослав Алексеевич      1"
      ]
     },
     "execution_count": 4,
     "metadata": {},
     "output_type": "execute_result"
    }
   ],
   "source": [
    "train.head()"
   ]
  },
  {
   "cell_type": "markdown",
   "metadata": {},
   "source": [
    "## 2. Data Preprocessing"
   ]
  },
  {
   "cell_type": "code",
   "execution_count": 5,
   "metadata": {},
   "outputs": [],
   "source": [
    "# clean data from punctuation marks and convert to lowercase\n",
    "\n",
    "stopwords_rus = set(stopwords.words(\"russian\"))\n",
    "\n",
    "def clean_text(text):\n",
    "    text = text.lower() # convert to lowercase\n",
    "    text = re.sub(\"[^а-я]\", \" \", text)\n",
    "    words = [word for word in text.split() if word not in stopwords_rus]\n",
    "    text = \" \".join(words)\n",
    "    return text\n",
    "\n",
    "clean_train_reviews = train['text'].map(clean_text)\n",
    "clean_test_reviews = test['text'].map(clean_text)"
   ]
  },
  {
   "cell_type": "markdown",
   "metadata": {},
   "source": [
    "## 3. Tokenization"
   ]
  },
  {
   "cell_type": "code",
   "execution_count": 6,
   "metadata": {},
   "outputs": [],
   "source": [
    "# prepare data for training\n",
    "MAX_SEQUENCE_LENGTH_NAMES = 36\n",
    "vocab_size_names = 5793\n",
    "\n",
    "tokenizer = Tokenizer()\n",
    "\n",
    "tokenizer.fit_on_texts(clean_train_reviews + clean_train_reviews)\n",
    "\n",
    "text_sequences = tokenizer.texts_to_sequences(clean_train_reviews)\n",
    "train_inputs = pad_sequences(text_sequences, maxlen=MAX_SEQUENCE_LENGTH_NAMES, padding='post')\n",
    "\n",
    "text_sequences = tokenizer.texts_to_sequences(clean_test_reviews)\n",
    "test_inputs = pad_sequences(text_sequences, maxlen=MAX_SEQUENCE_LENGTH_NAMES, padding='post')"
   ]
  },
  {
   "cell_type": "markdown",
   "metadata": {},
   "source": [
    "## 4. Build Model"
   ]
  },
  {
   "cell_type": "code",
   "execution_count": 7,
   "metadata": {},
   "outputs": [],
   "source": [
    "def model_name():\n",
    "    model = tf.keras.Sequential()\n",
    "    model.add(tf.keras.layers.Embedding(vocab_size_names, 16, input_length=MAX_SEQUENCE_LENGTH_NAMES))\n",
    "    model.add(tf.keras.layers.GlobalAveragePooling1D())\n",
    "    model.add(tf.keras.layers.Dense(64, activation=tf.nn.relu, kernel_regularizer=tf.keras.regularizers.L2(0.005)))\n",
    "    model.add(tf.keras.layers.Dense(32, activation=tf.nn.relu))\n",
    "    model.add(tf.keras.layers.Dense(8, activation=tf.nn.relu))\n",
    "    model.add(tf.keras.layers.Dense(1, activation=tf.nn.sigmoid))\n",
    "    return model"
   ]
  },
  {
   "cell_type": "markdown",
   "metadata": {},
   "source": [
    "## 5. Compile and Train"
   ]
  },
  {
   "cell_type": "code",
   "execution_count": 27,
   "metadata": {},
   "outputs": [
    {
     "name": "stdout",
     "output_type": "stream",
     "text": [
      "Model: \"sequential_3\"\n",
      "_________________________________________________________________\n",
      " Layer (type)                Output Shape              Param #   \n",
      "=================================================================\n",
      " embedding_3 (Embedding)     (None, 36, 16)            92688     \n",
      "                                                                 \n",
      " global_average_pooling1d_3   (None, 16)               0         \n",
      " (GlobalAveragePooling1D)                                        \n",
      "                                                                 \n",
      " dense_12 (Dense)            (None, 64)                1088      \n",
      "                                                                 \n",
      " dense_13 (Dense)            (None, 32)                2080      \n",
      "                                                                 \n",
      " dense_14 (Dense)            (None, 8)                 264       \n",
      "                                                                 \n",
      " dense_15 (Dense)            (None, 1)                 9         \n",
      "                                                                 \n",
      "=================================================================\n",
      "Total params: 96,129\n",
      "Trainable params: 96,129\n",
      "Non-trainable params: 0\n",
      "_________________________________________________________________\n"
     ]
    }
   ],
   "source": [
    "model = model_name()\n",
    "model.summary()\n",
    "model.compile(optimizer='adam',\n",
    "              loss='binary_crossentropy',\n",
    "              metrics=['acc'])"
   ]
  },
  {
   "cell_type": "code",
   "execution_count": 20,
   "metadata": {},
   "outputs": [],
   "source": [
    "X_val = train_inputs[:4000]\n",
    "X_train = train_inputs[4000:]\n",
    "\n",
    "y_val = np.array(train['label'].iloc[:4000])\n",
    "y_train = np.array(train['label'].iloc[4000:])"
   ]
  },
  {
   "cell_type": "code",
   "execution_count": 25,
   "metadata": {
    "scrolled": true
   },
   "outputs": [
    {
     "name": "stdout",
     "output_type": "stream",
     "text": [
      "Epoch 1/35\n",
      "2/2 [==============================] - 0s 336ms/step - loss: 0.7340 - acc: 0.5150 - val_loss: 0.7325 - val_acc: 0.6750\n",
      "Epoch 2/35\n",
      "2/2 [==============================] - 0s 67ms/step - loss: 0.7283 - acc: 0.8770 - val_loss: 0.7266 - val_acc: 0.9862\n",
      "Epoch 3/35\n",
      "2/2 [==============================] - 0s 67ms/step - loss: 0.7222 - acc: 0.9990 - val_loss: 0.7227 - val_acc: 0.8062\n",
      "Epoch 4/35\n",
      "2/2 [==============================] - 0s 68ms/step - loss: 0.7176 - acc: 0.9240 - val_loss: 0.7184 - val_acc: 0.8435\n",
      "Epoch 5/35\n",
      "2/2 [==============================] - 0s 64ms/step - loss: 0.7127 - acc: 0.9860 - val_loss: 0.7137 - val_acc: 0.9235\n",
      "Epoch 6/35\n",
      "2/2 [==============================] - 0s 68ms/step - loss: 0.7074 - acc: 1.0000 - val_loss: 0.7083 - val_acc: 0.9545\n",
      "Epoch 7/35\n",
      "2/2 [==============================] - 0s 66ms/step - loss: 0.7013 - acc: 1.0000 - val_loss: 0.7024 - val_acc: 0.9805\n",
      "Epoch 8/35\n",
      "2/2 [==============================] - 0s 67ms/step - loss: 0.6947 - acc: 1.0000 - val_loss: 0.6960 - val_acc: 0.9925\n",
      "Epoch 9/35\n",
      "2/2 [==============================] - 0s 60ms/step - loss: 0.6877 - acc: 1.0000 - val_loss: 0.6893 - val_acc: 0.9942\n",
      "Epoch 10/35\n",
      "2/2 [==============================] - 0s 60ms/step - loss: 0.6802 - acc: 1.0000 - val_loss: 0.6820 - val_acc: 0.9942\n",
      "Epoch 11/35\n",
      "2/2 [==============================] - 0s 57ms/step - loss: 0.6719 - acc: 1.0000 - val_loss: 0.6741 - val_acc: 0.9945\n",
      "Epoch 12/35\n",
      "2/2 [==============================] - 0s 58ms/step - loss: 0.6630 - acc: 1.0000 - val_loss: 0.6655 - val_acc: 0.9948\n",
      "Epoch 13/35\n",
      "2/2 [==============================] - 0s 57ms/step - loss: 0.6532 - acc: 1.0000 - val_loss: 0.6558 - val_acc: 0.9992\n",
      "Epoch 14/35\n",
      "2/2 [==============================] - 0s 61ms/step - loss: 0.6423 - acc: 1.0000 - val_loss: 0.6453 - val_acc: 0.9975\n",
      "Epoch 15/35\n",
      "2/2 [==============================] - 0s 60ms/step - loss: 0.6303 - acc: 1.0000 - val_loss: 0.6337 - val_acc: 0.9998\n",
      "Epoch 16/35\n",
      "2/2 [==============================] - 0s 57ms/step - loss: 0.6173 - acc: 1.0000 - val_loss: 0.6214 - val_acc: 0.9992\n",
      "Epoch 17/35\n",
      "2/2 [==============================] - 0s 59ms/step - loss: 0.6032 - acc: 1.0000 - val_loss: 0.6079 - val_acc: 0.9998\n",
      "Epoch 18/35\n",
      "2/2 [==============================] - 0s 59ms/step - loss: 0.5880 - acc: 1.0000 - val_loss: 0.5946 - val_acc: 0.9992\n",
      "Epoch 19/35\n",
      "2/2 [==============================] - 0s 58ms/step - loss: 0.5725 - acc: 1.0000 - val_loss: 0.5794 - val_acc: 1.0000\n",
      "Epoch 20/35\n",
      "2/2 [==============================] - 0s 59ms/step - loss: 0.5561 - acc: 1.0000 - val_loss: 0.5638 - val_acc: 0.9998\n",
      "Epoch 21/35\n",
      "2/2 [==============================] - 0s 60ms/step - loss: 0.5385 - acc: 1.0000 - val_loss: 0.5465 - val_acc: 1.0000\n",
      "Epoch 22/35\n",
      "2/2 [==============================] - 0s 63ms/step - loss: 0.5199 - acc: 1.0000 - val_loss: 0.5290 - val_acc: 1.0000\n",
      "Epoch 23/35\n",
      "2/2 [==============================] - 0s 70ms/step - loss: 0.5006 - acc: 1.0000 - val_loss: 0.5103 - val_acc: 1.0000\n",
      "Epoch 24/35\n",
      "2/2 [==============================] - 0s 64ms/step - loss: 0.4805 - acc: 1.0000 - val_loss: 0.4915 - val_acc: 1.0000\n",
      "Epoch 25/35\n",
      "2/2 [==============================] - 0s 57ms/step - loss: 0.4598 - acc: 1.0000 - val_loss: 0.4722 - val_acc: 1.0000\n",
      "Epoch 26/35\n",
      "2/2 [==============================] - 0s 60ms/step - loss: 0.4386 - acc: 1.0000 - val_loss: 0.4521 - val_acc: 1.0000\n",
      "Epoch 27/35\n",
      "2/2 [==============================] - 0s 58ms/step - loss: 0.4170 - acc: 1.0000 - val_loss: 0.4322 - val_acc: 1.0000\n",
      "Epoch 28/35\n",
      "2/2 [==============================] - 0s 57ms/step - loss: 0.3952 - acc: 1.0000 - val_loss: 0.4113 - val_acc: 1.0000\n",
      "Epoch 29/35\n",
      "2/2 [==============================] - 0s 57ms/step - loss: 0.3738 - acc: 1.0000 - val_loss: 0.3911 - val_acc: 1.0000\n",
      "Epoch 30/35\n",
      "2/2 [==============================] - 0s 57ms/step - loss: 0.3520 - acc: 1.0000 - val_loss: 0.3702 - val_acc: 1.0000\n",
      "Epoch 31/35\n",
      "2/2 [==============================] - 0s 59ms/step - loss: 0.3307 - acc: 1.0000 - val_loss: 0.3500 - val_acc: 1.0000\n",
      "Epoch 32/35\n",
      "2/2 [==============================] - 0s 57ms/step - loss: 0.3097 - acc: 1.0000 - val_loss: 0.3307 - val_acc: 1.0000\n",
      "Epoch 33/35\n",
      "2/2 [==============================] - 0s 57ms/step - loss: 0.2898 - acc: 1.0000 - val_loss: 0.3113 - val_acc: 1.0000\n",
      "Epoch 34/35\n",
      "2/2 [==============================] - 0s 57ms/step - loss: 0.2706 - acc: 1.0000 - val_loss: 0.2932 - val_acc: 1.0000\n",
      "Epoch 35/35\n",
      "2/2 [==============================] - 0s 58ms/step - loss: 0.2523 - acc: 1.0000 - val_loss: 0.2755 - val_acc: 1.0000\n"
     ]
    }
   ],
   "source": [
    "checkpoint_path = \"pretrained_models/training_names/cp.ckpt\"\n",
    "checkpoint_dir = os.path.dirname(checkpoint_path)\n",
    "\n",
    "# Create a callback that saves the model's weights\n",
    "cp_callback = tf.keras.callbacks.ModelCheckpoint(filepath=checkpoint_path,\n",
    "                                                 save_weights_only=True,\n",
    "                                                 verbose=0)\n",
    "history = model.fit(X_train,\n",
    "                    y_train,\n",
    "                    epochs=35,\n",
    "                    batch_size=512,\n",
    "                    validation_data=[X_val, y_val],\n",
    "                    verbose=1,\n",
    "                    callbacks=[cp_callback])"
   ]
  },
  {
   "cell_type": "markdown",
   "metadata": {},
   "source": [
    "## 6. Predict"
   ]
  },
  {
   "cell_type": "code",
   "execution_count": 30,
   "metadata": {},
   "outputs": [
    {
     "data": {
      "text/plain": [
       "<tensorflow.python.checkpoint.checkpoint.CheckpointLoadStatus at 0x145170e80>"
      ]
     },
     "execution_count": 30,
     "metadata": {},
     "output_type": "execute_result"
    }
   ],
   "source": [
    "checkpoint_path = \"pretrained_models/training_names/cp.ckpt\"\n",
    "model.load_weights(checkpoint_path)"
   ]
  },
  {
   "cell_type": "code",
   "execution_count": 31,
   "metadata": {},
   "outputs": [
    {
     "name": "stdout",
     "output_type": "stream",
     "text": [
      "40/40 [==============================] - 0s 939us/step\n",
      "1.0\n"
     ]
    },
    {
     "data": {
      "image/png": "[encoded data removed]",
      "text/plain": [
       "<Figure size 640x480 with 1 Axes>"
      ]
     },
     "metadata": {},
     "output_type": "display_data"
    }
   ],
   "source": [
    "\n",
    "predictions = np.rint(model.predict(test_inputs)).astype('int32').squeeze()\n",
    "\n",
    "cfm = confusion_matrix(y_test, predictions)\n",
    "sns.heatmap(cfm, annot=True, fmt=\"d\", cbar=False)\n",
    "accuracy = accuracy_score(y_test, predictions)\n",
    "print(accuracy)"
   ]
  },
  {
   "cell_type": "code",
   "execution_count": null,
   "metadata": {},
   "outputs": [],
   "source": []
  }
 ],
 "metadata": {
  "kernelspec": {
   "display_name": "sales",
   "language": "python",
   "name": "sales"
  },
  "language_info": {
   "codemirror_mode": {
    "name": "ipython",
    "version": 3
   },
   "file_extension": ".py",
   "mimetype": "text/x-python",
   "name": "python",
   "nbconvert_exporter": "python",
   "pygments_lexer": "ipython3",
   "version": "3.10.4"
  }
 },
 "nbformat": 4,
 "nbformat_minor": 2
}
