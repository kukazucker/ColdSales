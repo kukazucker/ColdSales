{
 "cells": [
  {
   "cell_type": "code",
   "execution_count": 1,
   "metadata": {},
   "outputs": [
    {
     "name": "stderr",
     "output_type": "stream",
     "text": [
      "2022-11-05 18:55:28.946502: I tensorflow/core/platform/cpu_feature_guard.cc:193] This TensorFlow binary is optimized with oneAPI Deep Neural Network Library (oneDNN) to use the following CPU instructions in performance-critical operations:  AVX2 FMA\n",
      "To enable them in other operations, rebuild TensorFlow with the appropriate compiler flags.\n"
     ]
    }
   ],
   "source": [
    "# ML Tools\n",
    "import numpy as np \n",
    "import pandas as pd \n",
    "# Visualization\n",
    "import matplotlib.pyplot as plt\n",
    "import seaborn as sns\n",
    "# To prepare data\n",
    "import re\n",
    "from nltk.corpus import stopwords\n",
    "from sklearn.utils import shuffle\n",
    "# import nltk\n",
    "# nltk.download('stopwords')\n",
    "# Metrics\n",
    "from sklearn.metrics import confusion_matrix\n",
    "from sklearn.metrics import accuracy_score\n",
    "# Train Tools\n",
    "import tensorflow as tf\n",
    "from tensorflow.keras import layers\n",
    "from tensorflow.keras import losses\n",
    "from tensorflow.keras.preprocessing.sequence import pad_sequences\n",
    "from tensorflow.keras.preprocessing.text import Tokenizer\n",
    "from sklearn.utils import shuffle\n",
    "\n",
    "# other settings\n",
    "import os\n",
    "import pickle\n",
    "import warnings\n",
    "warnings.filterwarnings('ignore')"
   ]
  },
  {
   "cell_type": "markdown",
   "metadata": {},
   "source": [
    "## 1. Input Data"
   ]
  },
  {
   "cell_type": "code",
   "execution_count": 2,
   "metadata": {},
   "outputs": [
    {
     "name": "stdout",
     "output_type": "stream",
     "text": [
      "Train Data:  (80000, 2)\n"
     ]
    },
    {
     "data": {
      "text/html": [
       "<div>\n",
       "<style scoped>\n",
       "    .dataframe tbody tr th:only-of-type {\n",
       "        vertical-align: middle;\n",
       "    }\n",
       "\n",
       "    .dataframe tbody tr th {\n",
       "        vertical-align: top;\n",
       "    }\n",
       "\n",
       "    .dataframe thead th {\n",
       "        text-align: right;\n",
       "    }\n",
       "</style>\n",
       "<table border=\"1\" class=\"dataframe\">\n",
       "  <thead>\n",
       "    <tr style=\"text-align: right;\">\n",
       "      <th></th>\n",
       "      <th>text</th>\n",
       "      <th>label</th>\n",
       "    </tr>\n",
       "  </thead>\n",
       "  <tbody>\n",
       "    <tr>\n",
       "      <th>68505</th>\n",
       "      <td>чем ближе новый год, тем больше планов накрыва...</td>\n",
       "      <td>1</td>\n",
       "    </tr>\n",
       "    <tr>\n",
       "      <th>43950</th>\n",
       "      <td>@rotapost я не только про #Twitter, но и про и...</td>\n",
       "      <td>1</td>\n",
       "    </tr>\n",
       "    <tr>\n",
       "      <th>12147</th>\n",
       "      <td>@artdor кто шарит в политологии,может проанали...</td>\n",
       "      <td>0</td>\n",
       "    </tr>\n",
       "    <tr>\n",
       "      <th>24421</th>\n",
       "      <td>Пытаюсь нажраться сиропом от кашля и новопасси...</td>\n",
       "      <td>0</td>\n",
       "    </tr>\n",
       "    <tr>\n",
       "      <th>48132</th>\n",
       "      <td>RT @qifubobonyz: Меня посетило преддрожное вол...</td>\n",
       "      <td>1</td>\n",
       "    </tr>\n",
       "  </tbody>\n",
       "</table>\n",
       "</div>"
      ],
      "text/plain": [
       "                                                    text  label\n",
       "68505  чем ближе новый год, тем больше планов накрыва...      1\n",
       "43950  @rotapost я не только про #Twitter, но и про и...      1\n",
       "12147  @artdor кто шарит в политологии,может проанали...      0\n",
       "24421  Пытаюсь нажраться сиропом от кашля и новопасси...      0\n",
       "48132  RT @qifubobonyz: Меня посетило преддрожное вол...      1"
      ]
     },
     "metadata": {},
     "output_type": "display_data"
    },
    {
     "name": "stdout",
     "output_type": "stream",
     "text": [
      "Test Data:  (16000, 2)\n"
     ]
    },
    {
     "data": {
      "text/html": [
       "<div>\n",
       "<style scoped>\n",
       "    .dataframe tbody tr th:only-of-type {\n",
       "        vertical-align: middle;\n",
       "    }\n",
       "\n",
       "    .dataframe tbody tr th {\n",
       "        vertical-align: top;\n",
       "    }\n",
       "\n",
       "    .dataframe thead th {\n",
       "        text-align: right;\n",
       "    }\n",
       "</style>\n",
       "<table border=\"1\" class=\"dataframe\">\n",
       "  <thead>\n",
       "    <tr style=\"text-align: right;\">\n",
       "      <th></th>\n",
       "      <th>text</th>\n",
       "      <th>label</th>\n",
       "    </tr>\n",
       "  </thead>\n",
       "  <tbody>\n",
       "    <tr>\n",
       "      <th>3712</th>\n",
       "      <td>RT @tezalypi: Поспорил давненько с друзьями, ч...</td>\n",
       "      <td>0</td>\n",
       "    </tr>\n",
       "    <tr>\n",
       "      <th>363</th>\n",
       "      <td>Некто как  обычно не хочет  гулять(  опять буд...</td>\n",
       "      <td>0</td>\n",
       "    </tr>\n",
       "    <tr>\n",
       "      <th>4389</th>\n",
       "      <td>Только обретешь немноо счастья, его тотчас же ...</td>\n",
       "      <td>0</td>\n",
       "    </tr>\n",
       "    <tr>\n",
       "      <th>6762</th>\n",
       "      <td>Завтра утром обещают -27! Морозно, однако!(((</td>\n",
       "      <td>0</td>\n",
       "    </tr>\n",
       "    <tr>\n",
       "      <th>5833</th>\n",
       "      <td>Музыкальный ряд отменяется. И радостно и груст...</td>\n",
       "      <td>0</td>\n",
       "    </tr>\n",
       "  </tbody>\n",
       "</table>\n",
       "</div>"
      ],
      "text/plain": [
       "                                                   text  label\n",
       "3712  RT @tezalypi: Поспорил давненько с друзьями, ч...      0\n",
       "363   Некто как  обычно не хочет  гулять(  опять буд...      0\n",
       "4389  Только обретешь немноо счастья, его тотчас же ...      0\n",
       "6762      Завтра утром обещают -27! Морозно, однако!(((      0\n",
       "5833  Музыкальный ряд отменяется. И радостно и груст...      0"
      ]
     },
     "metadata": {},
     "output_type": "display_data"
    }
   ],
   "source": [
    "train = pd.read_csv('data/tweets.csv')\n",
    "train = shuffle(train)\n",
    "test = pd.read_csv('data/tweets_test.csv')\n",
    "test = shuffle(test)\n",
    "\n",
    "print(\"Train Data: \", train.shape)\n",
    "display(train.head())\n",
    "print(\"Test Data: \",  test.shape)\n",
    "display(test.head())"
   ]
  },
  {
   "cell_type": "markdown",
   "metadata": {},
   "source": [
    "## 2. Data Preprocessing"
   ]
  },
  {
   "cell_type": "code",
   "execution_count": 3,
   "metadata": {},
   "outputs": [],
   "source": [
    "for i, x in enumerate(train['text']):\n",
    "    if len(train['text'][i]) < 50 or len(train['text'][i]) > 140:\n",
    "        train['text'][i] = None\n",
    "for i, x in enumerate(test['text']):\n",
    "    if len(test['text'][i]) < 50 or len(test['text'][i]) > 140:\n",
    "        test['text'][i] = None\n",
    "        \n",
    "train = train.dropna()\n",
    "test = test.dropna()\n",
    "\n",
    "y_test = test['label']"
   ]
  },
  {
   "cell_type": "code",
   "execution_count": 4,
   "metadata": {},
   "outputs": [],
   "source": [
    "# clean data from punctuation marks and convert to lowercase\n",
    "\n",
    "stopwords_rus = set(stopwords.words(\"russian\"))\n",
    "\n",
    "def clean_text(text):\n",
    "    text = text.lower() # convert to lowercase\n",
    "    text = re.sub(\"[^а-я]\", \" \", text)\n",
    "    words = [word for word in text.split() if word not in stopwords_rus]\n",
    "    text = \" \".join(words)\n",
    "    return text\n",
    "\n",
    "clean_train_reviews = train['text'].map(clean_text)\n",
    "clean_test_reviews = test['text'].map(clean_text)"
   ]
  },
  {
   "cell_type": "markdown",
   "metadata": {},
   "source": [
    "## 3. Tokenization"
   ]
  },
  {
   "cell_type": "code",
   "execution_count": 5,
   "metadata": {},
   "outputs": [],
   "source": [
    "# prepare data for training\n",
    "MAX_SEQUENCE_LENGTH = 140\n",
    "\n",
    "vocab_size = 152836\n",
    "\n",
    "tokenizer = Tokenizer()\n",
    "\n",
    "tokenizer.fit_on_texts(clean_train_reviews + clean_train_reviews)\n",
    "\n",
    "text_sequences = tokenizer.texts_to_sequences(clean_train_reviews)\n",
    "train_inputs = pad_sequences(text_sequences, maxlen=MAX_SEQUENCE_LENGTH, padding='post')\n",
    "\n",
    "text_sequences = tokenizer.texts_to_sequences(clean_test_reviews)\n",
    "test_inputs = pad_sequences(text_sequences, maxlen=MAX_SEQUENCE_LENGTH, padding='post')"
   ]
  },
  {
   "cell_type": "markdown",
   "metadata": {},
   "source": [
    "## 4. Build Model"
   ]
  },
  {
   "cell_type": "code",
   "execution_count": 6,
   "metadata": {},
   "outputs": [],
   "source": [
    "def model_tweet():\n",
    "    model = tf.keras.Sequential()\n",
    "    model.add(tf.keras.layers.Embedding(vocab_size, 16, input_length=MAX_SEQUENCE_LENGTH))\n",
    "    model.add(tf.keras.layers.GlobalAveragePooling1D())\n",
    "    model.add(tf.keras.layers.Dense(64, activation=tf.nn.relu, kernel_regularizer=tf.keras.regularizers.L2(0.005)))\n",
    "    model.add(tf.keras.layers.Dropout(0.4))\n",
    "    model.add(tf.keras.layers.Dense(32, activation=tf.nn.relu))\n",
    "    model.add(tf.keras.layers.Dense(8, activation=tf.nn.relu))\n",
    "    model.add(tf.keras.layers.Dense(1, activation=tf.nn.sigmoid))\n",
    "    return model"
   ]
  },
  {
   "cell_type": "markdown",
   "metadata": {},
   "source": [
    "## 5. Compile and Train"
   ]
  },
  {
   "cell_type": "code",
   "execution_count": 7,
   "metadata": {},
   "outputs": [
    {
     "name": "stdout",
     "output_type": "stream",
     "text": [
      "Model: \"sequential\"\n",
      "_________________________________________________________________\n",
      " Layer (type)                Output Shape              Param #   \n",
      "=================================================================\n",
      " embedding (Embedding)       (None, 140, 16)           2445376   \n",
      "                                                                 \n",
      " global_average_pooling1d (G  (None, 16)               0         \n",
      " lobalAveragePooling1D)                                          \n",
      "                                                                 \n",
      " dense (Dense)               (None, 64)                1088      \n",
      "                                                                 \n",
      " dropout (Dropout)           (None, 64)                0         \n",
      "                                                                 \n",
      " dense_1 (Dense)             (None, 32)                2080      \n",
      "                                                                 \n",
      " dense_2 (Dense)             (None, 8)                 264       \n",
      "                                                                 \n",
      " dense_3 (Dense)             (None, 1)                 9         \n",
      "                                                                 \n",
      "=================================================================\n",
      "Total params: 2,448,817\n",
      "Trainable params: 2,448,817\n",
      "Non-trainable params: 0\n",
      "_________________________________________________________________\n"
     ]
    },
    {
     "name": "stderr",
     "output_type": "stream",
     "text": [
      "2022-11-05 18:55:54.697832: I tensorflow/core/platform/cpu_feature_guard.cc:193] This TensorFlow binary is optimized with oneAPI Deep Neural Network Library (oneDNN) to use the following CPU instructions in performance-critical operations:  AVX2 FMA\n",
      "To enable them in other operations, rebuild TensorFlow with the appropriate compiler flags.\n"
     ]
    }
   ],
   "source": [
    "model = model_tweet()\n",
    "model.summary()\n",
    "model.compile(optimizer='adam',\n",
    "              loss='binary_crossentropy',\n",
    "              metrics=['acc'])"
   ]
  },
  {
   "cell_type": "code",
   "execution_count": 8,
   "metadata": {},
   "outputs": [],
   "source": [
    "X_val = train_inputs[:4000]\n",
    "X_train = train_inputs[4000:]\n",
    "\n",
    "y_val = np.array(train['label'].iloc[:4000])\n",
    "y_train = np.array(train['label'].iloc[4000:])"
   ]
  },
  {
   "cell_type": "code",
   "execution_count": 9,
   "metadata": {
    "scrolled": true
   },
   "outputs": [
    {
     "name": "stdout",
     "output_type": "stream",
     "text": [
      "Epoch 1/15\n",
      "135/135 [==============================] - 4s 25ms/step - loss: 0.7490 - acc: 0.5499 - val_loss: 0.7119 - val_acc: 0.5435\n",
      "Epoch 2/15\n",
      "135/135 [==============================] - 3s 23ms/step - loss: 0.6983 - acc: 0.5505 - val_loss: 0.6925 - val_acc: 0.5435\n",
      "Epoch 3/15\n",
      "135/135 [==============================] - 3s 22ms/step - loss: 0.6893 - acc: 0.5505 - val_loss: 0.6898 - val_acc: 0.5435\n",
      "Epoch 4/15\n",
      "135/135 [==============================] - 3s 21ms/step - loss: 0.6882 - acc: 0.5505 - val_loss: 0.6894 - val_acc: 0.5435\n",
      "Epoch 5/15\n",
      "135/135 [==============================] - 3s 23ms/step - loss: 0.6881 - acc: 0.5505 - val_loss: 0.6895 - val_acc: 0.5435\n",
      "Epoch 6/15\n",
      "135/135 [==============================] - 3s 21ms/step - loss: 0.6881 - acc: 0.5505 - val_loss: 0.6895 - val_acc: 0.5435\n",
      "Epoch 7/15\n",
      "135/135 [==============================] - 3s 22ms/step - loss: 0.6881 - acc: 0.5505 - val_loss: 0.6893 - val_acc: 0.5435\n",
      "Epoch 8/15\n",
      "135/135 [==============================] - 3s 22ms/step - loss: 0.6881 - acc: 0.5505 - val_loss: 0.6893 - val_acc: 0.5435\n",
      "Epoch 9/15\n",
      "135/135 [==============================] - 3s 22ms/step - loss: 0.6880 - acc: 0.5505 - val_loss: 0.6892 - val_acc: 0.5435\n",
      "Epoch 10/15\n",
      "135/135 [==============================] - 3s 21ms/step - loss: 0.6874 - acc: 0.5505 - val_loss: 0.6877 - val_acc: 0.5435\n",
      "Epoch 11/15\n",
      "135/135 [==============================] - 3s 22ms/step - loss: 0.6571 - acc: 0.6072 - val_loss: 0.6238 - val_acc: 0.7122\n",
      "Epoch 12/15\n",
      "135/135 [==============================] - 3s 21ms/step - loss: 0.5698 - acc: 0.7562 - val_loss: 0.5936 - val_acc: 0.7122\n",
      "Epoch 13/15\n",
      "135/135 [==============================] - 3s 23ms/step - loss: 0.5063 - acc: 0.8028 - val_loss: 0.5735 - val_acc: 0.7445\n",
      "Epoch 14/15\n",
      "135/135 [==============================] - 3s 23ms/step - loss: 0.4499 - acc: 0.8347 - val_loss: 0.5774 - val_acc: 0.7440\n",
      "Epoch 15/15\n",
      "135/135 [==============================] - 3s 23ms/step - loss: 0.3994 - acc: 0.8625 - val_loss: 0.6333 - val_acc: 0.7440\n"
     ]
    }
   ],
   "source": [
    "checkpoint_path = \"pretrained_models/training_tweets/cp.ckpt\"\n",
    "checkpoint_dir = os.path.dirname(checkpoint_path)\n",
    "\n",
    "# Create a callback that saves the model's weights\n",
    "cp_callback = tf.keras.callbacks.ModelCheckpoint(filepath=checkpoint_path,\n",
    "                                                 save_weights_only=True,\n",
    "                                                 verbose=0)\n",
    "history = model.fit(X_train,\n",
    "                    y_train,\n",
    "                    epochs=15,\n",
    "                    batch_size=512,\n",
    "                    validation_data=[X_val, y_val],\n",
    "                    verbose=1,\n",
    "                    callbacks=[cp_callback])"
   ]
  },
  {
   "cell_type": "markdown",
   "metadata": {},
   "source": [
    "## 6. Predict"
   ]
  },
  {
   "cell_type": "code",
   "execution_count": 12,
   "metadata": {},
   "outputs": [
    {
     "data": {
      "text/plain": [
       "<tensorflow.python.checkpoint.checkpoint.CheckpointLoadStatus at 0x13f74bd00>"
      ]
     },
     "execution_count": 12,
     "metadata": {},
     "output_type": "execute_result"
    }
   ],
   "source": [
    "checkpoint_path = \"pretrained_models/training_tweets/cp.ckpt\"\n",
    "model.load_weights(checkpoint_path)"
   ]
  },
  {
   "cell_type": "code",
   "execution_count": 13,
   "metadata": {},
   "outputs": [
    {
     "name": "stdout",
     "output_type": "stream",
     "text": [
      "454/454 [==============================] - 0s 673us/step\n",
      "0.702510691129811\n"
     ]
    },
    {
     "data": {
      "image/png": "[encoded data removed]",
      "text/plain": [
       "<Figure size 640x480 with 1 Axes>"
      ]
     },
     "metadata": {},
     "output_type": "display_data"
    }
   ],
   "source": [
    "predictions = np.rint(model.predict(test_inputs)).astype('int32').squeeze()\n",
    "\n",
    "cfm = confusion_matrix(y_test, predictions)\n",
    "sns.heatmap(cfm, annot=True, fmt=\"d\", cbar=False)\n",
    "accuracy = accuracy_score(y_test, predictions)\n",
    "print(accuracy)"
   ]
  },
  {
   "cell_type": "code",
   "execution_count": 11,
   "metadata": {},
   "outputs": [
    {
     "data": {
      "text/plain": [
       "<tensorflow.python.checkpoint.checkpoint.CheckpointLoadStatus at 0x13f8c7520>"
      ]
     },
     "execution_count": 11,
     "metadata": {},
     "output_type": "execute_result"
    }
   ],
   "source": []
  },
  {
   "cell_type": "code",
   "execution_count": null,
   "metadata": {},
   "outputs": [],
   "source": []
  }
 ],
 "metadata": {
  "kernelspec": {
   "display_name": "sales",
   "language": "python",
   "name": "sales"
  },
  "language_info": {
   "codemirror_mode": {
    "name": "ipython",
    "version": 3
   },
   "file_extension": ".py",
   "mimetype": "text/x-python",
   "name": "python",
   "nbconvert_exporter": "python",
   "pygments_lexer": "ipython3",
   "version": "3.10.4"
  }
 },
 "nbformat": 4,
 "nbformat_minor": 2
}
